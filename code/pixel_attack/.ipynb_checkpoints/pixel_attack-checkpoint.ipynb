{
 "cells": [
  {
   "cell_type": "code",
   "execution_count": 1,
   "metadata": {},
   "outputs": [],
   "source": [
    "import torch\n",
    "from torchvision import transforms\n",
    "from PIL import Image\n",
    "import numpy as np\n",
    "import matplotlib.pyplot as plt"
   ]
  },
  {
   "cell_type": "code",
   "execution_count": 2,
   "metadata": {},
   "outputs": [],
   "source": [
    "# Define the MNIST model\n",
    "class Net(torch.nn.Module):\n",
    "    def __init__(self):\n",
    "        super(Net, self).__init__()\n",
    "        self.conv1 = torch.nn.Conv2d(1, 32, 3, 1)\n",
    "        self.conv2 = torch.nn.Conv2d(32, 64, 3, 1)\n",
    "        self.dropout1 = torch.nn.Dropout(0.25)\n",
    "        self.dropout2 = torch.nn.Dropout(0.5)\n",
    "        self.fc1 = torch.nn.Linear(9216, 128)\n",
    "        self.fc2 = torch.nn.Linear(128, 10)\n",
    "\n",
    "    def forward(self, x):\n",
    "        x = self.conv1(x)\n",
    "        x = torch.nn.functional.relu(x)\n",
    "        x = self.conv2(x)\n",
    "        x = torch.nn.functional.relu(x)\n",
    "        x = torch.nn.functional.max_pool2d(x, 2)\n",
    "        x = self.dropout1(x)\n",
    "        x = torch.flatten(x, 1)\n",
    "        x = self.fc1(x)\n",
    "        x = torch.nn.functional.relu(x)\n",
    "        x = self.dropout2(x)\n",
    "        x = self.fc2(x)\n",
    "        output = torch.nn.functional.softmax(x, dim=1)\n",
    "        return output"
   ]
  },
  {
   "cell_type": "code",
   "execution_count": 3,
   "metadata": {},
   "outputs": [],
   "source": [
    "# Initialize the pre-trained model\n",
    "model = Net()\n",
    "model.load_state_dict(torch.load('../../data/models/mnist_cnn.pt', map_location=torch.device('cpu')))\n",
    "model.eval();"
   ]
  },
  {
   "cell_type": "code",
   "execution_count": 4,
   "metadata": {},
   "outputs": [],
   "source": [
    "# Example\n",
    "label  = 3\n",
    "img_id = 9777\n",
    "#img = Image.open(f\"../../mnist_test_imgs/{label}/{img_id}.png\")\n",
    "img = Image.open(\"../../data/pictures/3.png\")\n",
    "preprocess = transforms.Compose([\n",
    "   transforms.Resize(28),\n",
    "   transforms.ToTensor(),\n",
    "   transforms.Normalize((0.1307,), (0.3081,))\n",
    "])"
   ]
  },
  {
   "cell_type": "code",
   "execution_count": 5,
   "metadata": {},
   "outputs": [
    {
     "name": "stdout",
     "output_type": "stream",
     "text": [
      "Predicted 3 with probability: 1.0.\n"
     ]
    },
    {
     "data": {
      "image/png": "[encoded data removed]",
      "text/plain": [
       "<Figure size 432x288 with 1 Axes>"
      ]
     },
     "metadata": {
      "needs_background": "light"
     },
     "output_type": "display_data"
    }
   ],
   "source": [
    "plt.imshow(img, cmap = \"gray\")\n",
    "tensor = preprocess(img)[0].reshape(1,1,28,28)\n",
    "prediction = model(tensor)\n",
    "item = prediction.argmax().item()\n",
    "prob = prediction.max().item()\n",
    "print(f'Predicted {item} with probability: {prob}.')"
   ]
  },
  {
   "cell_type": "code",
   "execution_count": null,
   "metadata": {
    "scrolled": true
   },
   "outputs": [
    {
     "name": "stdout",
     "output_type": "stream",
     "text": [
      "Pixel 1...\n"
     ]
    }
   ],
   "source": [
    "min_prob = 1\n",
    "adv1 = None\n",
    "print(\"Pixel 1...\")\n",
    "for i in range(img.size[0]): # for every pixel:\n",
    "    for j in range(img.size[1]):\n",
    "        for pxl in [0,1]:\n",
    "            img_cpy = img.copy()\n",
    "            img_cpy.load()[i,j] = pxl\n",
    "            prediction = model(preprocess(img_cpy)[0].reshape(1,1,28,28))\n",
    "            prob = prediction[0].detach().numpy()\n",
    "            if prob[label] < min_prob:\n",
    "                min_prob = prob[label]\n",
    "                adv1 = [i,j,pxl]\n",
    "print(\"Done.\")\n",
    "\n",
    "if adv1 is None:\n",
    "    print(\"Failed.\")\n",
    "else:\n",
    "    min_prob = 1\n",
    "    adv2 = None\n",
    "    print(\"Pixel 2...\")\n",
    "    for i in range(img.size[0]): # for every pixel:\n",
    "        for j in range(img.size[1]): \n",
    "            if not (i == adv1[0] and j == adv1[1]):\n",
    "                for pxl in [0,1]:\n",
    "                    img_cpy = img.copy()\n",
    "                    img_cpy.load()[adv1[0],adv1[1]] = adv1[2]\n",
    "                    img_cpy.load()[i,j] = pxl\n",
    "                    prediction = model(preprocess(img_cpy)[0].reshape(1,1,28,28))\n",
    "                    prob = prediction[0].detach().numpy()\n",
    "                    if prob[label] < min_prob:\n",
    "                        min_prob = prob[label]\n",
    "                        adv2 = [i,j,pxl]\n",
    "    print(\"Done.\")"
   ]
  },
  {
   "cell_type": "code",
   "execution_count": null,
   "metadata": {},
   "outputs": [],
   "source": [
    "adv_img = img.copy()\n",
    "adv_img.load()[adv1[0], adv1[1]] = adv1[2]\n",
    "adv_img.load()[adv2[0], adv2[1]] = adv2[2]\n",
    "\n",
    "# Predict original\n",
    "img_tensor = preprocess(img)[0].reshape(1,1,28,28)\n",
    "prediction_img = model(img_tensor)\n",
    "item_img = prediction_img.argmax().item()\n",
    "prob_img = prediction_img.max().item()\n",
    "\n",
    "# Predict adversarial\n",
    "adv_img_tensor = preprocess(adv_img)[0].reshape(1,1,28,28)\n",
    "prediction_adv_img = model(adv_img_tensor)\n",
    "item_adv_img = prediction_adv_img.argmax().item()\n",
    "prob_adv_img = prediction_adv_img.max().item()\n",
    "\n",
    "fig, axs = plt.subplots(1,2);\n",
    "axs[0].imshow(img, cmap = \"gray\");\n",
    "axs[0].set_title(\"Predicted %d with\\nprobability %.3f%%.\" % (item_img, prob_img * 100));\n",
    "axs[1].imshow(adv_img, cmap = \"gray\");\n",
    "axs[1].set_title(\"Predicted %d with\\nprobability %.3f%%.\" % (item_adv_img, prob_adv_img * 100));\n",
    "\n"
   ]
  },
  {
   "cell_type": "code",
   "execution_count": null,
   "metadata": {},
   "outputs": [],
   "source": []
  },
  {
   "cell_type": "code",
   "execution_count": null,
   "metadata": {},
   "outputs": [],
   "source": []
  }
 ],
 "metadata": {
  "interpreter": {
   "hash": "d185d99660d43f918a309554ca434be2526a3d95ca2e0b28b0f0a334f8c90ee8"
  },
  "kernelspec": {
   "display_name": "Python 3 (ipykernel)",
   "language": "python",
   "name": "python3"
  },
  "language_info": {
   "codemirror_mode": {
    "name": "ipython",
    "version": 3
   },
   "file_extension": ".py",
   "mimetype": "text/x-python",
   "name": "python",
   "nbconvert_exporter": "python",
   "pygments_lexer": "ipython3",
   "version": "3.7.11"
  }
 },
 "nbformat": 4,
 "nbformat_minor": 2
}
