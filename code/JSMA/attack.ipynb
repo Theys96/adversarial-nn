{
 "cells": [
  {
   "cell_type": "code",
   "execution_count": 1,
   "metadata": {},
   "outputs": [],
   "source": [
    "import torch\n",
    "from torchvision import transforms\n",
    "from torchvision.utils import save_image\n",
    "from mnist_model_generator import Net\n",
    "from PIL import Image\n",
    "import math"
   ]
  },
  {
   "cell_type": "code",
   "execution_count": 2,
   "metadata": {},
   "outputs": [],
   "source": [
    "model = Net()\n",
    "model.load_state_dict(torch.load('../../data/weights/mnist_cnn.pt', map_location=torch.device('cpu')))\n",
    "model.eval();"
   ]
  },
  {
   "cell_type": "code",
   "execution_count": 3,
   "metadata": {},
   "outputs": [],
   "source": [
    "three = Image.open(\"../../data/pictures/3.png\")\n",
    "preprocess = transforms.Compose([\n",
    "   transforms.Resize(28),\n",
    "   transforms.ToTensor(),\n",
    "   transforms.Normalize((0.1307,), (0.3081,))\n",
    "])\n",
    "three_tensor = preprocess(three)[0].reshape(1,1,28,28)"
   ]
  },
  {
   "cell_type": "code",
   "execution_count": 4,
   "metadata": {},
   "outputs": [
    {
     "data": {
      "text/plain": [
       "tensor([[3.8002e-37, 1.9888e-26, 1.2790e-24, 1.0000e+00, 3.6991e-38, 1.3000e-19,\n",
       "         5.5069e-37, 2.9996e-23, 2.1760e-25, 7.5329e-23]],\n",
       "       grad_fn=<SoftmaxBackward0>)"
      ]
     },
     "execution_count": 4,
     "metadata": {},
     "output_type": "execute_result"
    }
   ],
   "source": [
    "model(three_tensor)"
   ]
  },
  {
   "cell_type": "markdown",
   "metadata": {},
   "source": [
    "# Start of JSMA"
   ]
  },
  {
   "cell_type": "code",
   "execution_count": 5,
   "metadata": {},
   "outputs": [],
   "source": [
    "def saliency_map(J, t, space, size, width):\n",
    "    S = [(0, 0)] * size\n",
    "    for p in space:\n",
    "        alpha = J[t, p // width, p % width].item()\n",
    "        beta = 0\n",
    "        for i in range(J.size(0)):\n",
    "            if not i == t:\n",
    "                beta += J[i, p // width, p % width].item()\n",
    "        S[p] = (alpha, beta)\n",
    "    return S"
   ]
  },
  {
   "cell_type": "code",
   "execution_count": 6,
   "metadata": {},
   "outputs": [],
   "source": [
    "def jsma(original_image_tensor, target, predictor, max_dist, increase):\n",
    "    img_tensor = original_image_tensor.clone()\n",
    "    img_size = img_tensor.size(2) * img_tensor.size(3)\n",
    "    width = img_tensor.size(3)\n",
    "    search_space = list(range(img_size))\n",
    "    i = 0\n",
    "    max_iter = math.floor((img_size * max_dist) / (200))\n",
    "    chosen_pixel_1 = -1\n",
    "    chosen_pixel_2 = -1\n",
    "    prediction = predictor(img_tensor)\n",
    "\n",
    "    while not prediction.argmax().item() == target and i < max_iter and len(search_space) >= 2:\n",
    "        max = 0\n",
    "        J = torch.autograd.functional.jacobian(predictor, img_tensor)[0, :, 0, 0, :, :]\n",
    "        S = saliency_map(J, target, search_space, img_size, width)\n",
    "        for pixel1 in search_space:\n",
    "            for pixel2 in search_space:\n",
    "                if pixel1 == pixel2:\n",
    "                    continue\n",
    "                \n",
    "                alpha = S[pixel1][0] + S[pixel2][0]\n",
    "                beta = S[pixel1][1] + S[pixel2][1]\n",
    "\n",
    "                sign_check = alpha > 0 and beta < 0 if increase else alpha < 0 and beta > 0\n",
    "                if sign_check and -alpha * beta > max:\n",
    "                    chosen_pixel_1 = pixel1\n",
    "                    chosen_pixel_2 = pixel2\n",
    "                    max = -alpha * beta\n",
    "\n",
    "        if max == 0:\n",
    "            break\n",
    "\n",
    "        img_tensor[0, 0, chosen_pixel_1 // width, chosen_pixel_1 % width] = 1 if increase else 0\n",
    "        img_tensor[0, 0, chosen_pixel_2 // width, chosen_pixel_2 % width] = 1 if increase else 0\n",
    "\n",
    "        search_space.remove(chosen_pixel_1)\n",
    "        search_space.remove(chosen_pixel_2)\n",
    "        \n",
    "        prediction = predictor(img_tensor)\n",
    "        i += 1\n",
    "    return img_tensor"
   ]
  },
  {
   "cell_type": "markdown",
   "metadata": {},
   "source": [
    "Image of 3 seems to lead to positive not being very effective.\n",
    "Perhaps a 1 would perform better on positive?\n",
    "\n",
    "On the other hand, 3 performs pretty well on negative\n",
    "\n",
    "The experiment on an empty image is pretty interesting"
   ]
  },
  {
   "cell_type": "code",
   "execution_count": 7,
   "metadata": {},
   "outputs": [
    {
     "name": "stdout",
     "output_type": "stream",
     "text": [
      "Classified as 3 with goal 0\n",
      "Classified as 3 with goal 1\n",
      "Classified as 2 with goal 2\n",
      "Classified as 3 with goal 3\n",
      "Classified as 3 with goal 4\n",
      "Classified as 3 with goal 5\n",
      "Classified as 3 with goal 6\n",
      "Classified as 3 with goal 7\n",
      "Classified as 8 with goal 8\n",
      "Classified as 3 with goal 9\n"
     ]
    }
   ],
   "source": [
    "attacked_models_positive = []\n",
    "for i in range(10):\n",
    "    attacked_models_positive.append(jsma(three_tensor, i, model, 20, True))\n",
    "    print(f'Classified as {model(attacked_models_positive[i]).argmax().item()} with goal {i}')\n",
    "    save_image(attacked_models_positive[i][0,0], f'../../results/JSMA/positive-{i}.png')"
   ]
  },
  {
   "cell_type": "code",
   "execution_count": 8,
   "metadata": {},
   "outputs": [
    {
     "name": "stdout",
     "output_type": "stream",
     "text": [
      "Classified as 0 with goal 0\n",
      "Classified as 1 with goal 1\n",
      "Classified as 2 with goal 2\n",
      "Classified as 3 with goal 3\n",
      "Classified as 4 with goal 4\n",
      "Classified as 5 with goal 5\n",
      "Classified as 3 with goal 6\n",
      "Classified as 7 with goal 7\n",
      "Classified as 8 with goal 8\n",
      "Classified as 3 with goal 9\n"
     ]
    }
   ],
   "source": [
    "attacked_models_negative = []\n",
    "for i in range(10):\n",
    "    attacked_models_negative.append(jsma(three_tensor, i, model, 20, False))\n",
    "    print(f'Classified as {model(attacked_models_negative[i]).argmax().item()} with goal {i}')\n",
    "    save_image(attacked_models_negative[i][0,0], f'../../results/JSMA/negative-{i}.png')"
   ]
  },
  {
   "cell_type": "code",
   "execution_count": 9,
   "metadata": {},
   "outputs": [
    {
     "name": "stdout",
     "output_type": "stream",
     "text": [
      "Classified as 0 with goal 0\n",
      "Classified as 1 with goal 1\n",
      "Classified as 2 with goal 2\n",
      "Classified as 3 with goal 3\n",
      "Classified as 4 with goal 4\n",
      "Classified as 5 with goal 5\n",
      "Classified as 6 with goal 6\n",
      "Classified as 7 with goal 7\n",
      "Classified as 8 with goal 8\n",
      "Classified as 9 with goal 9\n"
     ]
    }
   ],
   "source": [
    "attacked_models_empty = []\n",
    "for i in range(10):\n",
    "    attacked_models_empty.append(jsma(torch.zeros_like(three_tensor), i, model, 20, True))\n",
    "    print(f'Classified as {model(attacked_models_empty[i]).argmax().item()} with goal {i}')\n",
    "    save_image(attacked_models_empty[i][0,0], f'../../results/JSMA/empty-{i}.png')"
   ]
  },
  {
   "cell_type": "code",
   "execution_count": null,
   "metadata": {},
   "outputs": [],
   "source": []
  }
 ],
 "metadata": {
  "interpreter": {
   "hash": "d185d99660d43f918a309554ca434be2526a3d95ca2e0b28b0f0a334f8c90ee8"
  },
  "kernelspec": {
   "display_name": "Python 3 (ipykernel)",
   "language": "python",
   "name": "python3"
  },
  "language_info": {
   "codemirror_mode": {
    "name": "ipython",
    "version": 3
   },
   "file_extension": ".py",
   "mimetype": "text/x-python",
   "name": "python",
   "nbconvert_exporter": "python",
   "pygments_lexer": "ipython3",
   "version": "3.7.11"
  }
 },
 "nbformat": 4,
 "nbformat_minor": 2
}
