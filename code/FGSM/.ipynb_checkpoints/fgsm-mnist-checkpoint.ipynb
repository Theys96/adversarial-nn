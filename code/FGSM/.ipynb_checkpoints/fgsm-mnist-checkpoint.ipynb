{
 "cells": [
  {
   "cell_type": "markdown",
   "id": "10c3f7d2-f99f-4afe-9eec-da06e5e85dd3",
   "metadata": {},
   "source": [
    "# FGSM MNIST\n",
    "Please see the file fgsm.ipynb for an introduction in the FGSM related methods. Here follows an evaluation of adverserial training using FGSM related methods and the MNIST dataset. The first part of this file is similar to the fgsm.ipynb notebook, except for the fact that we are now using the MNIST dataset, and have converted our methods to functions, such that they can be applied in the adverserial training process."
   ]
  },
  {
   "cell_type": "code",
   "execution_count": 1,
   "id": "c28c79b1-8b60-4ed9-b261-41348005bd81",
   "metadata": {},
   "outputs": [],
   "source": [
    "from PIL import Image\n",
    "from torchvision import transforms\n",
    "import matplotlib.pyplot as plt\n",
    "import numpy as np\n",
    "\n",
    "import json\n",
    "import torch\n",
    "import torch.nn as nn\n",
    "from torchvision.models import resnet50\n",
    "from torch.autograd import Variable\n",
    "import torch.nn.functional as F"
   ]
  },
  {
   "cell_type": "code",
   "execution_count": 2,
   "id": "fd05e889-b257-4b21-b423-07a07fedf244",
   "metadata": {},
   "outputs": [],
   "source": [
    "\n",
    "# Define the MNIST model\n",
    "class Net(torch.nn.Module):\n",
    "    def __init__(self):\n",
    "        super(Net, self).__init__()\n",
    "        self.conv1 = torch.nn.Conv2d(1, 32, 3, 1)\n",
    "        self.conv2 = torch.nn.Conv2d(32, 64, 3, 1)\n",
    "        self.dropout1 = torch.nn.Dropout(0.25)\n",
    "        self.dropout2 = torch.nn.Dropout(0.5)\n",
    "        self.fc1 = torch.nn.Linear(9216, 128)\n",
    "        self.fc2 = torch.nn.Linear(128, 10)\n",
    "\n",
    "    def forward(self, x):\n",
    "        x = self.conv1(x)\n",
    "        x = torch.nn.functional.relu(x)\n",
    "        x = self.conv2(x)\n",
    "        x = torch.nn.functional.relu(x)\n",
    "        x = torch.nn.functional.max_pool2d(x, 2)\n",
    "        x = self.dropout1(x)\n",
    "        x = torch.flatten(x, 1)\n",
    "        x = self.fc1(x)\n",
    "        x = torch.nn.functional.relu(x)\n",
    "        x = self.dropout2(x)\n",
    "        x = self.fc2(x)\n",
    "        output = torch.nn.functional.softmax(x, dim=1)\n",
    "        return output"
   ]
  },
  {
   "cell_type": "code",
   "execution_count": 3,
   "id": "6a2ce88d-83ba-4a13-9279-376ba5e4fd4c",
   "metadata": {},
   "outputs": [],
   "source": [
    "# Read the example image\n",
    "image = Image.open(\"../../data/pictures/4.png\")\n",
    "\n",
    "mean = (0.1307,)\n",
    "std = (0.3081,)\n",
    "\n",
    "# Resize to 224, convert to PyTorch Tensor and perform normalization\n",
    "preprocess = transforms.Compose([\n",
    "   transforms.Resize(28),\n",
    "   transforms.ToTensor(),\n",
    "   transforms.Normalize(std, mean)\n",
    "])\n",
    "\n",
    "# Add batch dimension\n",
    "image_tensor = preprocess(image).unsqueeze(0)\n",
    "\n",
    "image_variable = Variable(image_tensor, requires_grad=True)"
   ]
  },
  {
   "cell_type": "code",
   "execution_count": 4,
   "id": "82c4d8f1-664b-4b55-a6d2-19bc2b0c6536",
   "metadata": {},
   "outputs": [],
   "source": [
    "def show_image(image_variable, pred_label, prob):\n",
    "    # remove batch dimension\n",
    "    img = image_variable.squeeze(0)\n",
    "    \n",
    "    # Undo normalizations\n",
    "    img = img.mul(torch.FloatTensor(std).view(1,1,1)).add(torch.FloatTensor(mean).view(1,1,1)).detach().numpy()\n",
    "\n",
    "    # Convert C X H X W -->  H X W X C\n",
    "    img = np.transpose(img, (1,2,0))   \n",
    "    img = np.clip(img, 0, 1)\n",
    "    \n",
    "    figure, ax = plt.subplots(1,1, figsize=(4,4))\n",
    "    \n",
    "    ax.imshow(img, cmap = \"gray\")\n",
    "    ax.set_yticklabels([])\n",
    "    ax.set_xticklabels([])\n",
    "    ax.set_xticks([])\n",
    "    ax.set_yticks([])\n",
    "\n",
    "    \n",
    "    ax.text(0.5, -0.2,\n",
    "            'Prediction: {}\\n Probability: {:.4f}'.format(pred_label, prob),\n",
    "            size=12, ha=\"center\", transform=ax.transAxes)\n",
    "    \n",
    "    plt.show()\n",
    "    "
   ]
  },
  {
   "cell_type": "code",
   "execution_count": 5,
   "id": "4e072247-cbad-4410-a943-1760243e53ab",
   "metadata": {},
   "outputs": [],
   "source": [
    "\n",
    "# Initialize the pre-trained model\n",
    "model = Net()\n",
    "model.load_state_dict(torch.load('../../data/models/mnist_cnn.pt', map_location=torch.device('cpu')))\n",
    "model.eval();\n"
   ]
  },
  {
   "cell_type": "markdown",
   "id": "827799fe-47d1-400b-9e28-0aa63c14613f",
   "metadata": {},
   "source": [
    "# Original model performance"
   ]
  },
  {
   "cell_type": "code",
   "execution_count": 6,
   "id": "68ed14bb-88c1-46d9-9c78-624304958aba",
   "metadata": {},
   "outputs": [
    {
     "data": {
      "image/png": "[encoded data removed]",
      "text/plain": [
       "<Figure size 288x288 with 1 Axes>"
      ]
     },
     "metadata": {},
     "output_type": "display_data"
    }
   ],
   "source": [
    "pred = model(image_variable)\n",
    "\n",
    "label = pred.argmax().item()\n",
    "prob = pred.max().item()\n",
    "\n",
    "# plot image\n",
    "show_image(image_variable, label, prob)\n"
   ]
  },
  {
   "cell_type": "markdown",
   "id": "7af7ecd1-0b22-43dc-9b05-f38488c2cdb2",
   "metadata": {},
   "source": [
    "# Fast Gradient Sign Method\n"
   ]
  },
  {
   "cell_type": "code",
   "execution_count": 7,
   "id": "96b13f4d-0a31-492c-9161-ca15bf8cef59",
   "metadata": {},
   "outputs": [],
   "source": [
    "def fgsm(model, X, y, epsilon=0.1):\n",
    "    \n",
    "    delta = torch.zeros_like(X, requires_grad=True)\n",
    "    \n",
    "    loss = nn.CrossEntropyLoss()(model(X + delta), y)\n",
    "    \n",
    "    loss.backward()\n",
    "    \n",
    "    return epsilon * delta.grad.detach().sign()"
   ]
  },
  {
   "cell_type": "code",
   "execution_count": 8,
   "id": "c018e57b-1e54-482b-8319-fa5bea84fa52",
   "metadata": {},
   "outputs": [
    {
     "data": {
      "image/png": "[encoded data removed]",
      "text/plain": [
       "<Figure size 288x288 with 1 Axes>"
      ]
     },
     "metadata": {},
     "output_type": "display_data"
    }
   ],
   "source": [
    "delta = fgsm(model, image_variable, torch.tensor([4]), 0.4)\n",
    "pred_fgsm = model(image_variable + delta)\n",
    "label = pred_fgsm.argmax().item()\n",
    "prob = pred_fgsm.max().item()\n",
    "\n",
    "\n",
    "# plot image\n",
    "show_image(image_variable + delta, label, prob)"
   ]
  },
  {
   "cell_type": "markdown",
   "id": "0d561e96-ca4b-4d80-bec7-7b47b031ae05",
   "metadata": {},
   "source": [
    "# One step least-likely class"
   ]
  },
  {
   "cell_type": "code",
   "execution_count": 9,
   "id": "74e5600c-5be2-41c7-b658-6d68dd110c33",
   "metadata": {
    "tags": []
   },
   "outputs": [],
   "source": [
    "def onestepllclass(model, X, y_target, epsilon=0.1):\n",
    "    \n",
    "    delta = torch.zeros_like(X, requires_grad=True)\n",
    "    \n",
    "    loss = nn.CrossEntropyLoss()(model(X + delta), y_target)\n",
    "    \n",
    "    loss.backward()\n",
    "    \n",
    "    return - epsilon * delta.grad.detach().sign()\n"
   ]
  },
  {
   "cell_type": "code",
   "execution_count": 10,
   "id": "c8165589-cf84-4858-a98b-44f6598d8a57",
   "metadata": {},
   "outputs": [
    {
     "name": "stdout",
     "output_type": "stream",
     "text": [
      "least likely class: 0\n"
     ]
    }
   ],
   "source": [
    "# find least likely class\n",
    "pred = model(image_variable)\n",
    "y_target = torch.argmin(pred).item()\n",
    "print('least likely class: {}'.format(y_target))"
   ]
  },
  {
   "cell_type": "code",
   "execution_count": 11,
   "id": "02204c99-2e39-496f-8af1-6b8d0095c61a",
   "metadata": {},
   "outputs": [
    {
     "data": {
      "image/png": "[encoded data removed]",
      "text/plain": [
       "<Figure size 288x288 with 1 Axes>"
      ]
     },
     "metadata": {},
     "output_type": "display_data"
    }
   ],
   "source": [
    "delta = onestepllclass(model, image_variable, torch.tensor([y_target]), 0.4)\n",
    "pred_fgsm = model(image_variable + delta)\n",
    "label = pred_fgsm.argmax().item()\n",
    "prob = pred_fgsm.max().item()\n",
    "\n",
    "\n",
    "# plot image\n",
    "show_image(image_variable + delta, label, prob)"
   ]
  },
  {
   "cell_type": "markdown",
   "id": "15ce3e40-1c08-41b0-aec6-7b6e53376ef6",
   "metadata": {},
   "source": [
    "# Basic iterative method attack\n"
   ]
  },
  {
   "cell_type": "code",
   "execution_count": 12,
   "id": "44aeb135-2518-412b-ab86-278cd06a5758",
   "metadata": {},
   "outputs": [],
   "source": [
    "\n",
    "def bim(model, X, y, epsilon=0.1, alpha=1, num_steps=10):\n",
    "\n",
    "    delta = torch.zeros_like(X, requires_grad=True)\n",
    "        \n",
    "    for i in range(num_steps):\n",
    "        \n",
    "        loss = nn.CrossEntropyLoss()(model(X + delta), y)\n",
    "        \n",
    "        loss.backward()\n",
    "        \n",
    "        delta.data = (delta + alpha * delta.grad.detach().sign()).clamp(-epsilon, epsilon)\n",
    "        \n",
    "        delta.grad.zero_()\n",
    "        \n",
    "    return delta.detach()\n"
   ]
  },
  {
   "cell_type": "code",
   "execution_count": 13,
   "id": "0d926f83-1996-4a87-a357-b4a57d57e6a2",
   "metadata": {},
   "outputs": [
    {
     "name": "stderr",
     "output_type": "stream",
     "text": [
      "/home/jasper/anaconda3/lib/python3.8/site-packages/torch/autograd/__init__.py:154: UserWarning: grad and param do not obey the gradient layout contract. This is not an error, but may impair performance.\n",
      "grad.sizes() = [1, 1, 28, 28], strides() = [1, 1, 28, 1]\n",
      "param.sizes() = [1, 1, 28, 28], strides() = [784, 784, 28, 1] (Triggered internally at  ../torch/csrc/autograd/functions/accumulate_grad.h:185.)\n",
      "  Variable._execution_engine.run_backward(\n"
     ]
    },
    {
     "data": {
      "image/png": "[encoded data removed]",
      "text/plain": [
       "<Figure size 288x288 with 1 Axes>"
      ]
     },
     "metadata": {},
     "output_type": "display_data"
    }
   ],
   "source": [
    "delta = bim(model, image_variable, torch.tensor([4]), 0.4, 1, 10)\n",
    "pred_fgsm = model(image_variable + delta)\n",
    "label = pred_fgsm.argmax().item()\n",
    "prob = pred_fgsm.max().item()\n",
    "\n",
    "\n",
    "# plot image\n",
    "show_image(image_variable + delta, label, prob)"
   ]
  },
  {
   "cell_type": "markdown",
   "id": "1f36e28b-d4f8-441b-abd1-0a8996a1773e",
   "metadata": {},
   "source": [
    "# Iterative leasy-likely class method"
   ]
  },
  {
   "cell_type": "code",
   "execution_count": 14,
   "id": "98b25b4e-2a31-4740-8c83-264402de8efb",
   "metadata": {},
   "outputs": [],
   "source": [
    "def iterativellclass(model, X, y_target, epsilon=0.1, alpha=1, num_steps=10):\n",
    "\n",
    "    delta = torch.zeros_like(X, requires_grad=True)\n",
    "        \n",
    "    for i in range(num_steps):\n",
    "        \n",
    "        loss = nn.CrossEntropyLoss()(model(X - delta), y_target)\n",
    "        \n",
    "        loss.backward()\n",
    "        \n",
    "        delta.data = (delta - alpha * delta.grad.detach().sign()).clamp(-epsilon, epsilon)\n",
    "        \n",
    "        delta.grad.zero_()\n",
    "        \n",
    "    return delta.detach()"
   ]
  },
  {
   "cell_type": "code",
   "execution_count": 15,
   "id": "e0737f7b-3332-4a98-8946-c251e76ef43b",
   "metadata": {},
   "outputs": [
    {
     "name": "stdout",
     "output_type": "stream",
     "text": [
      "least likely class: 0\n"
     ]
    }
   ],
   "source": [
    "# find least likely class\n",
    "pred = model(image_variable)\n",
    "y_target = torch.argmin(pred).item()\n",
    "print('least likely class: {}'.format(y_target))"
   ]
  },
  {
   "cell_type": "code",
   "execution_count": 16,
   "id": "8afd5d99-0a77-4950-a49d-58b08fe06d06",
   "metadata": {},
   "outputs": [
    {
     "data": {
      "image/png": "[encoded data removed]",
      "text/plain": [
       "<Figure size 288x288 with 1 Axes>"
      ]
     },
     "metadata": {},
     "output_type": "display_data"
    }
   ],
   "source": [
    "delta = iterativellclass(model, image_variable, torch.tensor([y_target]), 0.4, 1, 10)\n",
    "pred_fgsm = model(image_variable + delta)\n",
    "label = pred_fgsm.argmax().item()\n",
    "prob = pred_fgsm.max().item()\n",
    "\n",
    "\n",
    "# plot image\n",
    "show_image(image_variable + delta, label, prob)"
   ]
  },
  {
   "cell_type": "markdown",
   "id": "4688c63d-7ba1-435c-a158-5256eb86d150",
   "metadata": {},
   "source": [
    "# Performance on adverserial trained model"
   ]
  },
  {
   "cell_type": "markdown",
   "id": "46902960-df1e-4a78-a448-b48f80de20b6",
   "metadata": {},
   "source": [
    "Here we show the effects of adverserial training. Adverserial training works a follows: instead of only training on regular examples from the dataset, we also use adverserial examples at every step of the training. First we show the result of training without adverserial examples:\n"
   ]
  },
  {
   "cell_type": "code",
   "execution_count": 17,
   "id": "4e6ed857-e670-4b47-931e-fabf43c97fa2",
   "metadata": {},
   "outputs": [
    {
     "name": "stdout",
     "output_type": "stream",
     "text": [
      "Iteration:\tTrain Err:\t\tTest Err:\t\tAdv. Err\n",
      "0\t\t0.011017\t\t0.013100\t\t0.188700\n",
      "1\t\t0.009883\t\t0.012700\t\t0.188800\n",
      "2\t\t0.009367\t\t0.012900\t\t0.193300\n",
      "3\t\t0.008617\t\t0.011700\t\t0.200900\n",
      "4\t\t0.007867\t\t0.011800\t\t0.201900\n",
      "5\t\t0.007333\t\t0.011500\t\t0.205100\n",
      "6\t\t0.006717\t\t0.011100\t\t0.196200\n",
      "7\t\t0.006317\t\t0.010900\t\t0.209300\n",
      "8\t\t0.005967\t\t0.010700\t\t0.201000\n",
      "9\t\t0.005800\t\t0.010400\t\t0.202300\n"
     ]
    }
   ],
   "source": [
    "import torch\n",
    "import torch.nn as nn\n",
    "import torch.optim as optim\n",
    "from torchvision import datasets, transforms\n",
    "from torch.utils.data import DataLoader\n",
    "\n",
    "mnist_train = datasets.MNIST(\"../../data\", train=True, download=True, transform=transforms.ToTensor())\n",
    "mnist_test = datasets.MNIST(\"../../data\", train=False, download=True, transform=transforms.ToTensor())\n",
    "\n",
    "train_loader = DataLoader(mnist_train, batch_size = 100, shuffle=True)\n",
    "test_loader = DataLoader(mnist_test, batch_size = 100, shuffle=False)\n",
    "\n",
    "device = torch.device(\"cuda:0\" if torch.cuda.is_available() else \"cpu\")\n",
    "\n",
    "def epoch(loader, model, attack=None, opt=None, **kwargs):\n",
    "    \n",
    "    total_loss, total_err = 0., 0.\n",
    "    \n",
    "    for X,y in loader:\n",
    "        X,y = X.to(device), y.to(device)\n",
    "        \n",
    "        if attack:\n",
    "            # if the attack parameter is specified, run the attack and get the corresponding classification\n",
    "            delta = attack(model, X, y, **kwargs)\n",
    "            yp = model(X + delta)\n",
    "        else:\n",
    "            yp = model(X)\n",
    "               \n",
    "        loss = nn.CrossEntropyLoss()(yp,y)\n",
    "        \n",
    "        if opt:\n",
    "            # this is a training run instead of a test run\n",
    "            opt.zero_grad()\n",
    "            loss.backward()\n",
    "            opt.step()\n",
    "        \n",
    "        total_err += (yp.max(dim=1)[1] != y).sum().item()\n",
    "        \n",
    "        total_loss += loss.item() * X.shape[0]\n",
    "        \n",
    "    return total_err / len(loader.dataset), total_loss / len(loader.dataset)\n",
    "\n",
    "print(\"Iteration:\\tTrain Err:\\t\\tTest Err:\\t\\tAdv. Err\")\n",
    "\n",
    "opt = optim.SGD(model.parameters(), lr=1e-1)\n",
    "\n",
    "for t in range(10):\n",
    "    \n",
    "    # Train the model without adverserial images\n",
    "    train_err, train_loss = epoch(train_loader, model, opt=opt)\n",
    "    \n",
    "    test_err, test_loss = epoch(test_loader, model)\n",
    "    \n",
    "    adv_err, adv_loss = epoch(test_loader, model, fgsm)\n",
    "    \n",
    "    print(\"{}\\t\\t{:.6f}\\t\\t{:.6f}\\t\\t{:.6f}\".format(t, train_err, test_err, adv_err))\n",
    "    \n",
    "torch.save(model.state_dict(), \"../../data/models/model_vulnerable.pt\")\n"
   ]
  },
  {
   "cell_type": "markdown",
   "id": "91893086-a2bf-485a-9aec-c26c6036e3ef",
   "metadata": {},
   "source": [
    "As can be observed from the Adverserial error result for the last iteration, the model has a high error rate for the adverserial examples, meaning that the model is vulnerable to adverserial attacks. To improve this, we will implement Adverserial Training:"
   ]
  },
  {
   "cell_type": "code",
   "execution_count": 19,
   "id": "29c8c006-10d9-4b6a-926e-b987ad55662f",
   "metadata": {},
   "outputs": [
    {
     "name": "stdout",
     "output_type": "stream",
     "text": [
      "Iteration:\tTrain Err:\t\tTest Err:\t\tAdv. Err\n",
      "0\t\t0.102167\t\t0.014000\t\t0.081600\n",
      "1\t\t0.072333\t\t0.013000\t\t0.070900\n",
      "2\t\t0.061167\t\t0.012200\t\t0.063300\n",
      "3\t\t0.053833\t\t0.011500\t\t0.058900\n",
      "4\t\t0.048567\t\t0.010900\t\t0.056000\n",
      "5\t\t0.044133\t\t0.010500\t\t0.053700\n",
      "6\t\t0.040883\t\t0.011100\t\t0.053100\n",
      "7\t\t0.038233\t\t0.009800\t\t0.051900\n",
      "8\t\t0.035917\t\t0.009800\t\t0.049200\n",
      "9\t\t0.033367\t\t0.009600\t\t0.047400\n"
     ]
    }
   ],
   "source": [
    "import copy\n",
    "model_robust = copy.deepcopy(model)\n",
    "\n",
    "print(\"Iteration:\\tTrain Err:\\t\\tTest Err:\\t\\tAdv. Err\")\n",
    "\n",
    "opt = optim.SGD(model_robust.parameters(), lr=1e-1)\n",
    "\n",
    "for t in range(10):\n",
    "    # Train the model using FGSM adverserial examples with epsilon = 0.1\n",
    "    train_err, train_loss = epoch(train_loader, model_robust, fgsm, opt)\n",
    "    \n",
    "    test_err, test_loss = epoch(test_loader, model_robust)\n",
    "    \n",
    "    adv_err, adv_loss = epoch(test_loader, model_robust, fgsm)\n",
    "    \n",
    "    print(\"{}\\t\\t{:.6f}\\t\\t{:.6f}\\t\\t{:.6f}\".format(t, train_err, test_err, adv_err))\n",
    "    \n",
    "torch.save(model_robust.state_dict(), \"../../data/models/model_robust.pt\")\n"
   ]
  },
  {
   "cell_type": "markdown",
   "id": "07c22372-3bd5-413f-a753-9e83f62a2293",
   "metadata": {},
   "source": [
    "Now we observe a much lower error rate for the adverserial samples, since we have also used the adverserial examples in the training process. Let's run a few more tests to verify whether the model is truly robust:"
   ]
  },
  {
   "cell_type": "code",
   "execution_count": 20,
   "id": "2348699d-5f82-46da-92a1-82681bbebe76",
   "metadata": {},
   "outputs": [],
   "source": [
    "model_robust.eval();"
   ]
  },
  {
   "cell_type": "markdown",
   "id": "4ccc7123-6ad1-4c2f-b330-5d1c4dbcbc92",
   "metadata": {},
   "source": [
    "If we run the same epoch again, we expect to obtain the same error rate:"
   ]
  },
  {
   "cell_type": "code",
   "execution_count": 21,
   "id": "c4c81ba8-5d6e-426b-b761-ed21ee237620",
   "metadata": {},
   "outputs": [
    {
     "name": "stdout",
     "output_type": "stream",
     "text": [
      "Adverserial error for FGSM with epsilon = .1: 0.047600\n"
     ]
    }
   ],
   "source": [
    "train_err, train_loss = epoch(test_loader, model_robust, fgsm, epsilon=.1)\n",
    "print(\"Adverserial error for FGSM with epsilon = .1: {:.6f}\".format(train_err))"
   ]
  },
  {
   "cell_type": "markdown",
   "id": "8246c775-1d6d-48b7-a64e-0ae563b989ff",
   "metadata": {},
   "source": [
    "This seems correct. Now we try a new epoch with averserial example generated using a slightly different epsilon value:"
   ]
  },
  {
   "cell_type": "code",
   "execution_count": 22,
   "id": "0ac1fb3b-9417-432f-89d9-79bc7374f389",
   "metadata": {},
   "outputs": [
    {
     "name": "stdout",
     "output_type": "stream",
     "text": [
      "Adverserial error for FGSM with epsilon = .4: 0.631600\n"
     ]
    }
   ],
   "source": [
    "train_err, train_loss = epoch(test_loader, model_robust, fgsm, epsilon=.4)\n",
    "print(\"Adverserial error for FGSM with epsilon = .4: {:.6f}\".format(train_err))"
   ]
  },
  {
   "cell_type": "markdown",
   "id": "5340a0ec-cd44-4fa7-bc36-f896acb5dc2d",
   "metadata": {},
   "source": [
    "We observe a high error rate again. The model is thus only robust against adverserial examples with the same epsilon value as the adverserial example training set."
   ]
  },
  {
   "cell_type": "code",
   "execution_count": 23,
   "id": "236f1231-7dc4-4347-a70a-47249ae756f9",
   "metadata": {},
   "outputs": [
    {
     "name": "stdout",
     "output_type": "stream",
     "text": [
      "Adverserial error for iterative least likely class with epsilon = .1: 0.053900\n"
     ]
    }
   ],
   "source": [
    "train_err, train_loss = epoch(test_loader, model_robust, bim, epsilon=.1)\n",
    "print(\"Adverserial error for iterative least likely class with epsilon = .1: {:.6f}\".format(train_err))"
   ]
  },
  {
   "cell_type": "markdown",
   "id": "496d1a6e-b166-41c5-8bf5-65fe59843ba4",
   "metadata": {},
   "source": [
    "From the low error rate, we observe that the adverserial training with the FGSM also seems to be effective against the basic iterative method attack. From these resuls we can conclude that adverserial training is able to at least partly protect our model predictions against adverserial examples. In the discussion we further discuss adverserial training."
   ]
  },
  {
   "cell_type": "markdown",
   "id": "3bd5b516-19ec-44e8-b706-05bdbb8ab671",
   "metadata": {},
   "source": [
    "# References"
   ]
  },
  {
   "cell_type": "markdown",
   "id": "6c8144d3-ee81-4578-8f5c-242092fd108e",
   "metadata": {},
   "source": [
    "Goodfellow, I. J., Shlens, J., & Szegedy, C. (2015). Explaining and Harnessing Adversarial Examples. ArXiv:1412.6572 [Cs, Stat]. http://arxiv.org/abs/1412.6572\n",
    "\n",
    "Kurakin, A., Goodfellow, I., & Bengio, S. (2017). Adversarial Machine Learning at Scale. ArXiv:1611.01236 [Cs, Stat]. http://arxiv.org/abs/1611.01236\n",
    "\n",
    "Madry, Z. K. and A. (n.d.). Adversarial Robustness—Theory and Practice. Retrieved November 8, 2021, from http://adversarial-ml-tutorial.org/\n"
   ]
  },
  {
   "cell_type": "markdown",
   "id": "efa36675-e5d5-4402-926c-cf4c5c957d68",
   "metadata": {},
   "source": [
    "## Aknowledgements\n",
    "I would like to thank Zico Kolter and Aleksander Madry for their clear tutorial on adversarial attacks and model robustness. Parts of the code of this notebook are based on examples of their tutorial."
   ]
  }
 ],
 "metadata": {
  "kernelspec": {
   "display_name": "Python 3",
   "language": "python",
   "name": "python3"
  },
  "language_info": {
   "codemirror_mode": {
    "name": "ipython",
    "version": 3
   },
   "file_extension": ".py",
   "mimetype": "text/x-python",
   "name": "python",
   "nbconvert_exporter": "python",
   "pygments_lexer": "ipython3",
   "version": "3.8.8"
  }
 },
 "nbformat": 4,
 "nbformat_minor": 5
}
