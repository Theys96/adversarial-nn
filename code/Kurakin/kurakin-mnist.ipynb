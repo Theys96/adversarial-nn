{
 "cells": [
  {
   "cell_type": "markdown",
   "id": "10c3f7d2-f99f-4afe-9eec-da06e5e85dd3",
   "metadata": {},
   "source": [
    "# Adverserial learning at scale - Kurakin et al\n",
    "Here we give an insight in several adverserial attack methods that were studied in the paper by Kurakin (2017). We show the performance of the methods in preventing the correct classification of a simple example image. As model we used the pretrained ResNet-50 model for classification of the ImageNet dataset.\n",
    "\n",
    "Similar to Kurakin (2017), we will use the following notations:\n",
    "\n",
    "$$\n",
    "\\begin{align}\n",
    "\\boldsymbol{X}&\\quad \\text{the original input image}\\\\\n",
    "\\boldsymbol{X}^{adv}&\\quad \\text{the adverserial image which is computed by the advererial attack methods}\\\\\n",
    "y&\\quad \\text{classification label}\\\\\n",
    "\\epsilon &\\quad \\text{The size of the perturbation, expressed in terms of pixel values} \\in [0,\\, 255]\\\\\n",
    "J(\\boldsymbol{X}, y_{true})&\\quad \\text{cost function used to train the model}\\\\\n",
    "Clip_{\\boldsymbol{X},\\epsilon}(\\boldsymbol{A}) &\\quad \\text{element wise clipping of } \\boldsymbol{A} \\text{, with } A_{i,j} \\text{ clipped to the range } [\\boldsymbol{X}_{i,j} - \\epsilon, \\boldsymbol{X}_{i,j} + \\epsilon]\n",
    "\\end{align}\n",
    "$$"
   ]
  },
  {
   "cell_type": "code",
   "execution_count": 1,
   "id": "c28c79b1-8b60-4ed9-b261-41348005bd81",
   "metadata": {},
   "outputs": [],
   "source": [
    "from PIL import Image\n",
    "from torchvision import transforms\n",
    "import matplotlib.pyplot as plt\n",
    "import numpy as np\n",
    "\n",
    "import json\n",
    "import torch\n",
    "import torch.nn as nn\n",
    "from torchvision.models import resnet50\n",
    "from torch.autograd import Variable\n",
    "import torch.nn.functional as F"
   ]
  },
  {
   "cell_type": "code",
   "execution_count": 2,
   "id": "fd05e889-b257-4b21-b423-07a07fedf244",
   "metadata": {},
   "outputs": [],
   "source": [
    "\n",
    "# Define the MNIST model\n",
    "class Net(torch.nn.Module):\n",
    "    def __init__(self):\n",
    "        super(Net, self).__init__()\n",
    "        self.conv1 = torch.nn.Conv2d(1, 32, 3, 1)\n",
    "        self.conv2 = torch.nn.Conv2d(32, 64, 3, 1)\n",
    "        self.dropout1 = torch.nn.Dropout(0.25)\n",
    "        self.dropout2 = torch.nn.Dropout(0.5)\n",
    "        self.fc1 = torch.nn.Linear(9216, 128)\n",
    "        self.fc2 = torch.nn.Linear(128, 10)\n",
    "\n",
    "    def forward(self, x):\n",
    "        x = self.conv1(x)\n",
    "        x = torch.nn.functional.relu(x)\n",
    "        x = self.conv2(x)\n",
    "        x = torch.nn.functional.relu(x)\n",
    "        x = torch.nn.functional.max_pool2d(x, 2)\n",
    "        x = self.dropout1(x)\n",
    "        x = torch.flatten(x, 1)\n",
    "        x = self.fc1(x)\n",
    "        x = torch.nn.functional.relu(x)\n",
    "        x = self.dropout2(x)\n",
    "        x = self.fc2(x)\n",
    "        output = torch.nn.functional.softmax(x, dim=1)\n",
    "        return output"
   ]
  },
  {
   "cell_type": "code",
   "execution_count": 3,
   "id": "6a2ce88d-83ba-4a13-9279-376ba5e4fd4c",
   "metadata": {},
   "outputs": [],
   "source": [
    "# Read the example image\n",
    "image = Image.open(\"../../data/pictures/4.png\")\n",
    "# Reel free to change kopje.jpg to any other image, such as pig.jpg. \n",
    "# The parameters might need retuning in that case\n",
    "#image = Image.open(\"pig.jpg\")\n",
    "mean = (0.1307,)\n",
    "std = (0.3081,)\n",
    "\n",
    "# Resize to 224, convert to PyTorch Tensor and perform normalizationa\n",
    "preprocess = transforms.Compose([\n",
    "   transforms.Resize(28),\n",
    "   transforms.ToTensor(),\n",
    "   transforms.Normalize(std, mean)\n",
    "])\n",
    "\n",
    "# Add batch dimension\n",
    "image_tensor = preprocess(image).unsqueeze(0)\n",
    "\n",
    "image_variable = Variable(image_tensor, requires_grad=True)"
   ]
  },
  {
   "cell_type": "code",
   "execution_count": 4,
   "id": "82c4d8f1-664b-4b55-a6d2-19bc2b0c6536",
   "metadata": {},
   "outputs": [],
   "source": [
    "def show_image(image_variable, pred_label, prob):\n",
    "    \"\"\"\n",
    "    \n",
    "    \"\"\"\n",
    "    # remove batch dimension\n",
    "    img = image_variable.squeeze(0)\n",
    "    \n",
    "    # Undo normalizations\n",
    "    img = img.mul(torch.FloatTensor(std).view(1,1,1)).add(torch.FloatTensor(mean).view(1,1,1)).detach().numpy()\n",
    "\n",
    "    # Convert C X H X W -->  H X W X C\n",
    "    img = np.transpose(img, (1,2,0))   \n",
    "    img = np.clip(img, 0, 1)\n",
    "    \n",
    "    figure, ax = plt.subplots(1,1, figsize=(4,4))\n",
    "    \n",
    "    #ax.imshow(img)\n",
    "    \n",
    "    ax.imshow(img, cmap = \"gray\")\n",
    "    ax.set_yticklabels([])\n",
    "    ax.set_xticklabels([])\n",
    "    ax.set_xticks([])\n",
    "    ax.set_yticks([])\n",
    "\n",
    "    \n",
    "    ax.text(0.5, -0.2,\n",
    "            'Prediction: {}\\n Probability: {:.4f}'.format(pred_label, prob),\n",
    "            size=12, ha=\"center\", transform=ax.transAxes)\n",
    "    \n",
    "    plt.show()\n",
    "    "
   ]
  },
  {
   "cell_type": "code",
   "execution_count": 5,
   "id": "4e072247-cbad-4410-a943-1760243e53ab",
   "metadata": {},
   "outputs": [],
   "source": [
    "\n",
    "# Initialize the pre-trained model\n",
    "model = Net()\n",
    "model.load_state_dict(torch.load('../../data/models/mnist_cnn.pt', map_location=torch.device('cpu')))\n",
    "model.eval();\n"
   ]
  },
  {
   "cell_type": "markdown",
   "id": "827799fe-47d1-400b-9e28-0aa63c14613f",
   "metadata": {},
   "source": [
    "# Original model performance\n",
    "Here, we show the performance of the model on the original image. The image is correctly classified as 'espresso' with high probability."
   ]
  },
  {
   "cell_type": "code",
   "execution_count": 6,
   "id": "68ed14bb-88c1-46d9-9c78-624304958aba",
   "metadata": {},
   "outputs": [
    {
     "data": {
      "image/png": "[encoded data removed]",
      "text/plain": [
       "<Figure size 288x288 with 1 Axes>"
      ]
     },
     "metadata": {},
     "output_type": "display_data"
    }
   ],
   "source": [
    "pred = model(image_variable)\n",
    "\n",
    "pred_label = pred.argmax().item()\n",
    "prob = pred.max().item()\n",
    "\n",
    "# plot image\n",
    "show_image(image_variable, pred_label, prob)\n"
   ]
  },
  {
   "cell_type": "code",
   "execution_count": 20,
   "id": "9264cfbb-133c-489f-97cd-a98b355020de",
   "metadata": {},
   "outputs": [
    {
     "data": {
      "text/plain": [
       "tensor([[1.6137e-41, 3.1848e-26, 2.2368e-33, 6.0412e-30, 1.0000e+00, 2.6853e-27,\n",
       "         7.0545e-35, 2.8563e-22, 1.0561e-20, 8.7732e-10]],\n",
       "       grad_fn=<SoftmaxBackward0>)"
      ]
     },
     "execution_count": 20,
     "metadata": {},
     "output_type": "execute_result"
    }
   ],
   "source": [
    "pred"
   ]
  },
  {
   "cell_type": "markdown",
   "id": "7af7ecd1-0b22-43dc-9b05-f38488c2cdb2",
   "metadata": {},
   "source": [
    "# Fast Gradient Sign Method\n",
    "Now we apply the Fast Gradient Sign Method (FGSM). The FGSM method was first proposed by Goodfellow (2015). It is a one-step method, that is easy to compute. The computation of the adverserial  image is done as follows:\n",
    "\n",
    "$$\n",
    "\\boldsymbol{X}^{adv} = \\boldsymbol{X} + \\epsilon\\, \\text{sign}{\\nabla_x J(\\boldsymbol{X}, y_{true})}\n",
    "$$\n",
    "\n",
    "Here follows the implementation in pytorch:"
   ]
  },
  {
   "cell_type": "code",
   "execution_count": 17,
   "id": "96b13f4d-0a31-492c-9161-ca15bf8cef59",
   "metadata": {},
   "outputs": [],
   "source": [
    "y_true = 4\n",
    "epsilon = 2\n",
    "\n",
    "pred = model(image_variable)\n",
    "\n",
    "model.zero_grad()\n",
    "\n",
    "loss = nn.CrossEntropyLoss()(pred, torch.LongTensor([y_true]))\n",
    "\n",
    "loss.backward(retain_graph=True)\n",
    "\n",
    "perturbed_image = image_variable + epsilon * image_variable.grad.data.sign()\n",
    "\n",
    "pred_perturbed = model(perturbed_image)"
   ]
  },
  {
   "cell_type": "code",
   "execution_count": 18,
   "id": "c018e57b-1e54-482b-8319-fa5bea84fa52",
   "metadata": {},
   "outputs": [
    {
     "data": {
      "image/png": "[encoded data removed]",
      "text/plain": [
       "<Figure size 288x288 with 1 Axes>"
      ]
     },
     "metadata": {},
     "output_type": "display_data"
    }
   ],
   "source": [
    "pred_label = pred.argmax().item()\n",
    "prob = pred.max().item()\n",
    "\n",
    "\n",
    "# plot image\n",
    "show_image(perturbed_image, pred_label, prob)"
   ]
  },
  {
   "cell_type": "markdown",
   "id": "1aa363bf-78a8-4fc3-b4c2-5d025bf4ae4a",
   "metadata": {},
   "source": [
    "As can be seen from the result above, the adverserial image appears exactly similar to the original input image. However it is classified as 'consomme' instead of 'espresso', with a much higher probability. It seems that the attack is working!"
   ]
  },
  {
   "cell_type": "code",
   "execution_count": 9,
   "id": "cdc15ea7-35ec-4445-b495-a9fdcd57c222",
   "metadata": {},
   "outputs": [
    {
     "data": {
      "text/plain": [
       "tensor([[[[0., 0., 0., 0., 0., 0., 0., 0., 0., 0., 0., 0., 0., 0., 0., 0., 0., 0., 0., 0., 0., 0., 0.,\n",
       "           0., 0., 0., 0., 0.],\n",
       "          [0., 0., 0., 0., 0., 0., 0., 0., 0., 0., 0., 0., 0., 0., 0., 0., 0., 0., 0., 0., 0., 0., 0.,\n",
       "           0., 0., 0., 0., 0.],\n",
       "          [0., 0., 0., 0., 0., 0., 0., 0., 0., 0., 0., 0., 0., 0., 0., 0., 0., 0., 0., 0., 0., 0., 0.,\n",
       "           0., 0., 0., 0., 0.],\n",
       "          [0., 0., 0., 0., 0., 0., 0., 0., 0., 0., 0., 0., 0., 0., 0., 0., 0., 0., 0., 0., 0., 0., 0.,\n",
       "           0., 0., 0., 0., 0.],\n",
       "          [0., 0., 0., 0., 0., 0., 0., 0., 0., 0., 0., 0., 0., 0., 0., 0., 0., 0., 0., 0., 0., 0., 0.,\n",
       "           0., 0., 0., 0., 0.],\n",
       "          [0., 0., 0., 0., 0., 0., 0., 0., 0., 0., 0., 0., 0., 0., 0., 0., 0., 0., 0., 0., 0., 0., 0.,\n",
       "           0., 0., 0., 0., 0.],\n",
       "          [0., 0., 0., 0., 0., 0., 0., 0., 0., 0., 0., 0., 0., 0., 0., 0., 0., 0., 0., 0., 0., 0., 0.,\n",
       "           0., 0., 0., 0., 0.],\n",
       "          [0., 0., 0., 0., 0., 0., 0., 0., 0., 0., 0., 0., 0., 0., 0., 0., 0., 0., 0., 0., 0., 0., 0.,\n",
       "           0., 0., 0., 0., 0.],\n",
       "          [0., 0., 0., 0., 0., 0., 0., 0., 0., 0., 0., 0., 0., 0., 0., 0., 0., 0., 0., 0., 0., 0., 0.,\n",
       "           0., 0., 0., 0., 0.],\n",
       "          [0., 0., 0., 0., 0., 0., 0., 0., 0., 0., 0., 0., 0., 0., 0., 0., 0., 0., 0., 0., 0., 0., 0.,\n",
       "           0., 0., 0., 0., 0.],\n",
       "          [0., 0., 0., 0., 0., 0., 0., 0., 0., 0., 0., 0., 0., 0., 0., 0., 0., 0., 0., 0., 0., 0., 0.,\n",
       "           0., 0., 0., 0., 0.],\n",
       "          [0., 0., 0., 0., 0., 0., 0., 0., 0., 0., 0., 0., 0., 0., 0., 0., 0., 0., 0., 0., 0., 0., 0.,\n",
       "           0., 0., 0., 0., 0.],\n",
       "          [0., 0., 0., 0., 0., 0., 0., 0., 0., 0., 0., 0., 0., 0., 0., 0., 0., 0., 0., 0., 0., 0., 0.,\n",
       "           0., 0., 0., 0., 0.],\n",
       "          [0., 0., 0., 0., 0., 0., 0., 0., 0., 0., 0., 0., 0., 0., 0., 0., 0., 0., 0., 0., 0., 0., 0.,\n",
       "           0., 0., 0., 0., 0.],\n",
       "          [0., 0., 0., 0., 0., 0., 0., 0., 0., 0., 0., 0., 0., 0., 0., 0., 0., 0., 0., 0., 0., 0., 0.,\n",
       "           0., 0., 0., 0., 0.],\n",
       "          [0., 0., 0., 0., 0., 0., 0., 0., 0., 0., 0., 0., 0., 0., 0., 0., 0., 0., 0., 0., 0., 0., 0.,\n",
       "           0., 0., 0., 0., 0.],\n",
       "          [0., 0., 0., 0., 0., 0., 0., 0., 0., 0., 0., 0., 0., 0., 0., 0., 0., 0., 0., 0., 0., 0., 0.,\n",
       "           0., 0., 0., 0., 0.],\n",
       "          [0., 0., 0., 0., 0., 0., 0., 0., 0., 0., 0., 0., 0., 0., 0., 0., 0., 0., 0., 0., 0., 0., 0.,\n",
       "           0., 0., 0., 0., 0.],\n",
       "          [0., 0., 0., 0., 0., 0., 0., 0., 0., 0., 0., 0., 0., 0., 0., 0., 0., 0., 0., 0., 0., 0., 0.,\n",
       "           0., 0., 0., 0., 0.],\n",
       "          [0., 0., 0., 0., 0., 0., 0., 0., 0., 0., 0., 0., 0., 0., 0., 0., 0., 0., 0., 0., 0., 0., 0.,\n",
       "           0., 0., 0., 0., 0.],\n",
       "          [0., 0., 0., 0., 0., 0., 0., 0., 0., 0., 0., 0., 0., 0., 0., 0., 0., 0., 0., 0., 0., 0., 0.,\n",
       "           0., 0., 0., 0., 0.],\n",
       "          [0., 0., 0., 0., 0., 0., 0., 0., 0., 0., 0., 0., 0., 0., 0., 0., 0., 0., 0., 0., 0., 0., 0.,\n",
       "           0., 0., 0., 0., 0.],\n",
       "          [0., 0., 0., 0., 0., 0., 0., 0., 0., 0., 0., 0., 0., 0., 0., 0., 0., 0., 0., 0., 0., 0., 0.,\n",
       "           0., 0., 0., 0., 0.],\n",
       "          [0., 0., 0., 0., 0., 0., 0., 0., 0., 0., 0., 0., 0., 0., 0., 0., 0., 0., 0., 0., 0., 0., 0.,\n",
       "           0., 0., 0., 0., 0.],\n",
       "          [0., 0., 0., 0., 0., 0., 0., 0., 0., 0., 0., 0., 0., 0., 0., 0., 0., 0., 0., 0., 0., 0., 0.,\n",
       "           0., 0., 0., 0., 0.],\n",
       "          [0., 0., 0., 0., 0., 0., 0., 0., 0., 0., 0., 0., 0., 0., 0., 0., 0., 0., 0., 0., 0., 0., 0.,\n",
       "           0., 0., 0., 0., 0.],\n",
       "          [0., 0., 0., 0., 0., 0., 0., 0., 0., 0., 0., 0., 0., 0., 0., 0., 0., 0., 0., 0., 0., 0., 0.,\n",
       "           0., 0., 0., 0., 0.],\n",
       "          [0., 0., 0., 0., 0., 0., 0., 0., 0., 0., 0., 0., 0., 0., 0., 0., 0., 0., 0., 0., 0., 0., 0.,\n",
       "           0., 0., 0., 0., 0.]]]])"
      ]
     },
     "execution_count": 9,
     "metadata": {},
     "output_type": "execute_result"
    }
   ],
   "source": [
    "# reset the gradients\n",
    "image_variable.grad.data.zero_()"
   ]
  },
  {
   "cell_type": "markdown",
   "id": "0d561e96-ca4b-4d80-bec7-7b47b031ae05",
   "metadata": {},
   "source": [
    "# One step least-likely class\n",
    "A variation of the FGSM method, that aims to maximize the probability $P(y_{target} | \\boldsymbol{X})$ towards a target class $y_{target}$ that is not likely for the current input. In this single-step method, the adverserial image $\\boldsymbol{X}^{adv}$ is computed as follows:\n",
    "$$\n",
    "\\boldsymbol{X}^{adv} = \\boldsymbol{X} - \\epsilon\\, \\text{sign}{\\nabla_x J(\\boldsymbol{X}, y_{LL})}\n",
    "$$\n",
    "Where $y_{LL} = \\arg \\min_y p(y | \\boldsymbol{X})$ represents the least likely class."
   ]
  },
  {
   "cell_type": "code",
   "execution_count": 29,
   "id": "74e5600c-5be2-41c7-b658-6d68dd110c33",
   "metadata": {
    "tags": []
   },
   "outputs": [
    {
     "name": "stdout",
     "output_type": "stream",
     "text": [
      "least likely class: 0\n"
     ]
    }
   ],
   "source": [
    "# find least likely class\n",
    "pred = model(image_variable)\n",
    "y_target = torch.argmin(pred).item()\n",
    "print('least likely class: {}'.format(y_target))\n",
    "\n",
    "epsilon = 4\n",
    "\n",
    "pred = model(image_variable)\n",
    "\n",
    "model.zero_grad()\n",
    "\n",
    "loss = nn.CrossEntropyLoss()(pred, torch.LongTensor([y_target]))\n",
    "\n",
    "loss.backward(retain_graph=True)\n",
    "\n",
    "perturbed_image = image_variable - epsilon * image_variable.grad.data.sign()\n",
    "\n",
    "pred_perturbed = model(perturbed_image)"
   ]
  },
  {
   "cell_type": "code",
   "execution_count": 30,
   "id": "62e8c820-f45b-4125-a533-d416dbcdadeb",
   "metadata": {},
   "outputs": [
    {
     "data": {
      "image/png": "[encoded data removed]",
      "text/plain": [
       "<Figure size 288x288 with 1 Axes>"
      ]
     },
     "metadata": {},
     "output_type": "display_data"
    }
   ],
   "source": [
    "pred_label = pred.argmax().item()\n",
    "prob = pred.max().item()\n",
    "\n",
    "# plot image\n",
    "show_image(perturbed_image, pred_label, prob)"
   ]
  },
  {
   "cell_type": "markdown",
   "id": "15ce3e40-1c08-41b0-aec6-7b6e53376ef6",
   "metadata": {},
   "source": [
    "# Basic iterative method attack\n",
    "\n",
    "Iterative methods apply many gradient updates. The Basic iterative method extends FGSM method, by applying the FGSM method multiple times with small step size:\n",
    "\n",
    "$$\n",
    "\\boldsymbol{X}^{adv}_0 = \\boldsymbol{X},\\quad \\boldsymbol{X}^{adv}_{N+1} = Clip_{\\boldsymbol{X},\\epsilon} \\{ \\boldsymbol{X}^{adv}_{N} + \\alpha \\, \\text{sign}\\nabla_x J(\\boldsymbol{X}^{adv}_{N}, y_{true}) \\}\n",
    "$$\n",
    "\n",
    "Here $\\alpha$ represents the weight of the perturbation in each step."
   ]
  },
  {
   "cell_type": "code",
   "execution_count": null,
   "id": "5f4d92f9-c072-4568-a396-a67abac84ede",
   "metadata": {},
   "outputs": [],
   "source": [
    "# reset the gradients\n",
    "image_variable.grad.data.zero_()"
   ]
  },
  {
   "cell_type": "code",
   "execution_count": 43,
   "id": "44aeb135-2518-412b-ab86-278cd06a5758",
   "metadata": {},
   "outputs": [],
   "source": [
    "y_true = 4\n",
    "epsilon = 2\n",
    "alpha = 1\n",
    "num_steps = 10\n",
    "\n",
    "for i in range(num_steps):\n",
    "    \n",
    "    pred = model(image_variable)\n",
    "\n",
    "    loss = nn.CrossEntropyLoss()(pred, torch.LongTensor([y_true]))\n",
    "    \n",
    "    loss.backward()\n",
    "        \n",
    "    x_adv_temp = image_variable.data + alpha * image_variable.grad.data.sign()\n",
    "    \n",
    "    total_grad = x_adv_temp - image_tensor\n",
    "    \n",
    "    image_variable.data = image_tensor + total_grad.data.clamp(-epsilon, epsilon)\n"
   ]
  },
  {
   "cell_type": "code",
   "execution_count": 44,
   "id": "ecdec382-88d6-4b17-acbf-91c810e424d9",
   "metadata": {},
   "outputs": [
    {
     "data": {
      "image/png": "[encoded data removed]",
      "text/plain": [
       "<Figure size 288x288 with 1 Axes>"
      ]
     },
     "metadata": {},
     "output_type": "display_data"
    }
   ],
   "source": [
    "pred = model(image_variable)\n",
    "\n",
    "pred_label = pred.argmax().item()\n",
    "prob = pred.max().item()\n",
    "\n",
    "\n",
    "# plot image\n",
    "show_image(image_variable, pred_label, prob)\n"
   ]
  },
  {
   "cell_type": "code",
   "execution_count": null,
   "id": "5475b63d-3f2b-4c9b-940f-c47b9cc77462",
   "metadata": {},
   "outputs": [],
   "source": [
    "# reset the gradients\n",
    "image_variable.grad.data.zero_()"
   ]
  },
  {
   "cell_type": "markdown",
   "id": "1f36e28b-d4f8-441b-abd1-0a8996a1773e",
   "metadata": {},
   "source": [
    "# Iterative leasy-likely class method\n",
    "An iterative method that applies the one-step least-likely class method multiple times:\n",
    "$$\n",
    "\\boldsymbol{X}^{adv}_0 = \\boldsymbol{X},\\quad \\boldsymbol{X}^{adv}_{N+1} = Clip_{\\boldsymbol{X},\\epsilon} \\{ \\boldsymbol{X}^{adv}_{N} - \\epsilon\\, \\text{sign}\\nabla_x J(\\boldsymbol{X}^{adv}_{N}, y_{LL})\\}\n",
    "$$"
   ]
  },
  {
   "cell_type": "code",
   "execution_count": 45,
   "id": "98b25b4e-2a31-4740-8c83-264402de8efb",
   "metadata": {},
   "outputs": [
    {
     "name": "stdout",
     "output_type": "stream",
     "text": [
      "least likely class: 0\n"
     ]
    }
   ],
   "source": [
    "# find least likely class\n",
    "pred = model(image_variable)\n",
    "y_target = torch.argmin(pred).item()\n",
    "print('least likely class: {}'.format(y_target))\n",
    "\n",
    "epsilon = 2\n",
    "alpha = 1\n",
    "num_steps = 10\n",
    "\n",
    "for i in range(num_steps):\n",
    "    \n",
    "    pred = model(image_variable)\n",
    "\n",
    "    loss = nn.CrossEntropyLoss()(pred, torch.LongTensor([y_target]))\n",
    "    \n",
    "    loss.backward()\n",
    "        \n",
    "    x_adv_temp = image_variable.data - alpha * image_variable.grad.data.sign()\n",
    "    \n",
    "    total_grad = x_adv_temp - image_tensor\n",
    "    \n",
    "    image_variable.data = image_tensor + total_grad.data.clamp(-epsilon, epsilon)\n"
   ]
  },
  {
   "cell_type": "code",
   "execution_count": 46,
   "id": "4afd5170-3b26-4f94-a3d4-ef911144718e",
   "metadata": {},
   "outputs": [
    {
     "data": {
      "image/png": "[encoded data removed]",
      "text/plain": [
       "<Figure size 288x288 with 1 Axes>"
      ]
     },
     "metadata": {},
     "output_type": "display_data"
    }
   ],
   "source": [
    "pred = model(image_variable)\n",
    "\n",
    "pred_label = pred.argmax().item()\n",
    "prob = pred.max().item()\n",
    "\n",
    "# plot image\n",
    "show_image(image_variable, pred_label, prob)\n"
   ]
  },
  {
   "cell_type": "markdown",
   "id": "4688c63d-7ba1-435c-a158-5256eb86d150",
   "metadata": {},
   "source": [
    "# Performance on adverserial trained model"
   ]
  },
  {
   "cell_type": "markdown",
   "id": "3bd5b516-19ec-44e8-b706-05bdbb8ab671",
   "metadata": {},
   "source": [
    "# References"
   ]
  },
  {
   "cell_type": "markdown",
   "id": "6c8144d3-ee81-4578-8f5c-242092fd108e",
   "metadata": {},
   "source": [
    "Goodfellow, I. J., Shlens, J., & Szegedy, C. (2015). Explaining and Harnessing Adversarial Examples. ArXiv:1412.6572 [Cs, Stat]. http://arxiv.org/abs/1412.6572\n",
    "\n",
    "Kurakin, A., Goodfellow, I., & Bengio, S. (2017). Adversarial Machine Learning at Scale. ArXiv:1611.01236 [Cs, Stat]. http://arxiv.org/abs/1611.01236\n",
    "\n"
   ]
  },
  {
   "cell_type": "code",
   "execution_count": null,
   "id": "cba8eff3-ecdd-4a0c-a51e-61f12de00389",
   "metadata": {},
   "outputs": [],
   "source": []
  }
 ],
 "metadata": {
  "kernelspec": {
   "display_name": "Python 3",
   "language": "python",
   "name": "python3"
  },
  "language_info": {
   "codemirror_mode": {
    "name": "ipython",
    "version": 3
   },
   "file_extension": ".py",
   "mimetype": "text/x-python",
   "name": "python",
   "nbconvert_exporter": "python",
   "pygments_lexer": "ipython3",
   "version": "3.8.8"
  }
 },
 "nbformat": 4,
 "nbformat_minor": 5
}
