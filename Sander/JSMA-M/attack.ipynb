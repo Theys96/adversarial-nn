{
 "cells": [
  {
   "cell_type": "code",
   "execution_count": 121,
   "metadata": {},
   "outputs": [],
   "source": [
    "import torch\n",
    "from torchvision import transforms\n",
    "from torchvision.utils import save_image\n",
    "from mnist_model_generator import Net\n",
    "from PIL import Image\n",
    "import math"
   ]
  },
  {
   "cell_type": "code",
   "execution_count": 122,
   "metadata": {},
   "outputs": [],
   "source": [
    "model = Net()\n",
    "model.load_state_dict(torch.load('../mnist_cnn.pt'))\n",
    "model.eval();"
   ]
  },
  {
   "cell_type": "code",
   "execution_count": 123,
   "metadata": {},
   "outputs": [],
   "source": [
    "three = Image.open(\"../8.png\")\n",
    "preprocess = transforms.Compose([\n",
    "   transforms.Resize(28),\n",
    "   transforms.ToTensor(),\n",
    "])\n",
    "three_tensor = preprocess(three)[0].reshape(1,1,28,28)"
   ]
  },
  {
   "cell_type": "code",
   "execution_count": 124,
   "metadata": {},
   "outputs": [
    {
     "data": {
      "text/plain": [
       "tensor([[6.7077e-05, 1.2055e-06, 8.3040e-05, 3.1091e-06, 1.1007e-06, 5.2987e-05,\n",
       "         1.5825e-05, 7.9039e-08, 9.9973e-01, 4.1002e-05]],\n",
       "       grad_fn=<SoftmaxBackward0>)"
      ]
     },
     "execution_count": 124,
     "metadata": {},
     "output_type": "execute_result"
    }
   ],
   "source": [
    "model(three_tensor)"
   ]
  },
  {
   "cell_type": "markdown",
   "metadata": {},
   "source": [
    "# Start of JSMA-M"
   ]
  },
  {
   "cell_type": "code",
   "execution_count": 125,
   "metadata": {},
   "outputs": [],
   "source": [
    "def saliency_map(J, t, space, size, width):\n",
    "    S = [(0, 0)] * size\n",
    "    for p in space:\n",
    "        alpha = J[t, p // width, p % width].item()\n",
    "        beta = 0\n",
    "        for i in range(J.size(0)):\n",
    "            if not i == t:\n",
    "                beta += J[i, p // width, p % width].item()\n",
    "        S[p] = (alpha, beta)\n",
    "    return S"
   ]
  },
  {
   "cell_type": "code",
   "execution_count": 126,
   "metadata": {},
   "outputs": [],
   "source": [
    "def clip(orig, val, eps):\n",
    "    return min([1, orig + eps, max([0, orig - eps, val])])"
   ]
  },
  {
   "cell_type": "code",
   "execution_count": 127,
   "metadata": {},
   "outputs": [],
   "source": [
    "def jsmaM(original_image_tensor, actual_class, predictor, max_dist, perturbation, epsilon):\n",
    "    img_tensor = original_image_tensor.clone()\n",
    "    img_size = img_tensor.size(2) * img_tensor.size(3)\n",
    "    width = img_tensor.size(3)\n",
    "    search_space = list(range(img_size))\n",
    "    i = 0\n",
    "    max_iter = math.floor((img_size * max_dist) / (200))\n",
    "    chosen_pixel_1 = -1\n",
    "    chosen_pixel_2 = -1\n",
    "    modifier = 0\n",
    "    prediction = predictor(img_tensor)\n",
    "    eta = [0] * img_size\n",
    "\n",
    "    while prediction.argmax().item() == actual_class and i < max_iter and len(search_space) >= 2:\n",
    "        max = 0\n",
    "        J = torch.autograd.functional.jacobian(predictor, img_tensor)[0, :, 0, 0, :, :]\n",
    "        S = [saliency_map(J, target, search_space, img_size, width) for target in range(10)]\n",
    "        \n",
    "        for t in range(10):\n",
    "            for pixel1 in search_space:\n",
    "                for pixel2 in search_space:\n",
    "                    if pixel1 == pixel2:\n",
    "                        continue\n",
    "                    \n",
    "                    alpha = S[t][pixel1][0] + S[t][pixel2][0]\n",
    "                    beta = S[t][pixel1][1] + S[t][pixel2][1]\n",
    "\n",
    "                    if -alpha * beta > max:\n",
    "                        chosen_pixel_1 = pixel1\n",
    "                        chosen_pixel_2 = pixel2\n",
    "                        max = -alpha * beta\n",
    "                        modifier = (-1 if t == actual_class else 1) * math.copysign(1, alpha) * perturbation\n",
    "\n",
    "        if max == 0:\n",
    "            break\n",
    "        \n",
    "        new1 = clip(\n",
    "            original_image_tensor[0, 0, chosen_pixel_1 // width, chosen_pixel_1 % width].item(),\n",
    "            img_tensor[0, 0, chosen_pixel_1 // width, chosen_pixel_1 % width].item() + modifier,\n",
    "            epsilon\n",
    "        )\n",
    "        diff1 = abs(new1 - img_tensor[0, 0, chosen_pixel_1 // width, chosen_pixel_1 % width])\n",
    "        img_tensor[0, 0, chosen_pixel_1 // width, chosen_pixel_1 % width] = new1\n",
    "        \n",
    "        new2 = clip(\n",
    "            original_image_tensor[0, 0, chosen_pixel_2 // width, chosen_pixel_2 % width].item(),\n",
    "            img_tensor[0, 0, chosen_pixel_2 // width, chosen_pixel_2 % width].item() + modifier,\n",
    "            epsilon\n",
    "        )\n",
    "        diff2 = abs(new2 - img_tensor[0, 0, chosen_pixel_2 // width, chosen_pixel_2 % width])\n",
    "        img_tensor[0, 0, chosen_pixel_2 // width, chosen_pixel_2 % width] = new2\n",
    "\n",
    "        val = img_tensor[0, 0, chosen_pixel_1 // width, chosen_pixel_1 % width]\n",
    "        if val <= 0 or val >= 1 or diff1 < 1e-06 or eta[chosen_pixel_1] == -1 * modifier:\n",
    "            search_space.remove(chosen_pixel_1)\n",
    "    \n",
    "        val = img_tensor[0, 0, chosen_pixel_2 // width, chosen_pixel_2 % width]\n",
    "        if val == 0 or val == 1 or diff2 < 1e-06 or eta[chosen_pixel_2] == modifier:\n",
    "            search_space.remove(chosen_pixel_2)\n",
    "        \n",
    "        eta[chosen_pixel_1] = modifier\n",
    "        eta[chosen_pixel_2] = modifier\n",
    "        prediction = predictor(img_tensor)\n",
    "\n",
    "        topPredictions = torch.topk(prediction, 2).indices[0]\n",
    "        closestIndex = topPredictions[1].item() if prediction.argmax() == actual_class else topPredictions[0].item()\n",
    "        print(f'Actual class: {prediction[0, actual_class]}%')\n",
    "        print(f'Closest attack: {closestIndex} at {prediction[0, closestIndex]}%')\n",
    "\n",
    "        i += 1\n",
    "    return img_tensor"
   ]
  },
  {
   "cell_type": "code",
   "execution_count": 131,
   "metadata": {},
   "outputs": [
    {
     "name": "stdout",
     "output_type": "stream",
     "text": [
      "Actual class: 0.9994644522666931%\n",
      "Closest attack: 2 at 0.0002299167972523719%\n",
      "Actual class: 0.9994644522666931%\n",
      "Closest attack: 2 at 0.0002299167972523719%\n",
      "Actual class: 0.9990882873535156%\n",
      "Closest attack: 2 at 0.00044256687397137284%\n",
      "Actual class: 0.998862624168396%\n",
      "Closest attack: 2 at 0.0005515737575478852%\n",
      "Actual class: 0.9985792636871338%\n",
      "Closest attack: 2 at 0.0006578587926924229%\n",
      "Actual class: 0.998210072517395%\n",
      "Closest attack: 2 at 0.0007347500650212169%\n",
      "Actual class: 0.9975599050521851%\n",
      "Closest attack: 2 at 0.0008847895660437644%\n",
      "Actual class: 0.9967947602272034%\n",
      "Closest attack: 2 at 0.000931522692553699%\n",
      "Actual class: 0.9965640902519226%\n",
      "Closest attack: 9 at 0.000983938341960311%\n",
      "Actual class: 0.9944281578063965%\n",
      "Closest attack: 9 at 0.002133168512955308%\n",
      "Actual class: 0.9942368268966675%\n",
      "Closest attack: 9 at 0.0022463698405772448%\n",
      "Actual class: 0.9909203052520752%\n",
      "Closest attack: 9 at 0.00413804454728961%\n",
      "Actual class: 0.9894407391548157%\n",
      "Closest attack: 9 at 0.005247302819043398%\n",
      "Actual class: 0.989036500453949%\n",
      "Closest attack: 9 at 0.0055358754470944405%\n",
      "Actual class: 0.9831252694129944%\n",
      "Closest attack: 9 at 0.009642229415476322%\n",
      "Actual class: 0.9717227220535278%\n",
      "Closest attack: 9 at 0.018277287483215332%\n",
      "Actual class: 0.9717227220535278%\n",
      "Closest attack: 9 at 0.018277287483215332%\n",
      "Actual class: 0.9531979560852051%\n",
      "Closest attack: 9 at 0.03351007401943207%\n",
      "Actual class: 0.9429999589920044%\n",
      "Closest attack: 9 at 0.0415131151676178%\n",
      "Actual class: 0.9429999589920044%\n",
      "Closest attack: 9 at 0.0415131151676178%\n",
      "Actual class: 0.9321309328079224%\n",
      "Closest attack: 9 at 0.0512346513569355%\n",
      "Actual class: 0.9162160754203796%\n",
      "Closest attack: 9 at 0.06481859087944031%\n",
      "Actual class: 0.8720663189888%\n",
      "Closest attack: 9 at 0.10262857377529144%\n",
      "Actual class: 0.8478466868400574%\n",
      "Closest attack: 9 at 0.12445621937513351%\n",
      "Actual class: 0.7885313034057617%\n",
      "Closest attack: 9 at 0.17843753099441528%\n",
      "Actual class: 0.7761896848678589%\n",
      "Closest attack: 9 at 0.189780130982399%\n",
      "Actual class: 0.7067040801048279%\n",
      "Closest attack: 9 at 0.2547878623008728%\n",
      "Actual class: 0.6749130487442017%\n",
      "Closest attack: 9 at 0.2851808965206146%\n",
      "Actual class: 0.6390235424041748%\n",
      "Closest attack: 9 at 0.3195614516735077%\n",
      "Actual class: 0.5600451827049255%\n",
      "Closest attack: 9 at 0.39498835802078247%\n",
      "Actual class: 0.5108118653297424%\n",
      "Closest attack: 9 at 0.44365671277046204%\n",
      "Actual class: 0.4444064795970917%\n",
      "Closest attack: 9 at 0.5061732530593872%\n"
     ]
    }
   ],
   "source": [
    "attacked = jsmaM(three_tensor, 8, model, 20, 1, 0.3)"
   ]
  },
  {
   "cell_type": "code",
   "execution_count": 129,
   "metadata": {},
   "outputs": [],
   "source": [
    "save_image(attacked[0][0], f'attack.png')"
   ]
  },
  {
   "cell_type": "code",
   "execution_count": 130,
   "metadata": {},
   "outputs": [
    {
     "data": {
      "text/plain": [
       "tensor(2)"
      ]
     },
     "execution_count": 130,
     "metadata": {},
     "output_type": "execute_result"
    }
   ],
   "source": [
    "model(attacked).argmax()"
   ]
  }
 ],
 "metadata": {
  "interpreter": {
   "hash": "d185d99660d43f918a309554ca434be2526a3d95ca2e0b28b0f0a334f8c90ee8"
  },
  "kernelspec": {
   "display_name": "Python 3.9.5 64-bit ('base': conda)",
   "name": "python3"
  },
  "language_info": {
   "codemirror_mode": {
    "name": "ipython",
    "version": 3
   },
   "file_extension": ".py",
   "mimetype": "text/x-python",
   "name": "python",
   "nbconvert_exporter": "python",
   "pygments_lexer": "ipython3",
   "version": "3.9.5"
  },
  "orig_nbformat": 4
 },
 "nbformat": 4,
 "nbformat_minor": 2
}
