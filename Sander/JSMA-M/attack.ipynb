{
 "cells": [
  {
   "cell_type": "code",
   "execution_count": 1,
   "metadata": {},
   "outputs": [],
   "source": [
    "import torch\n",
    "from torchvision import transforms\n",
    "from torchvision.utils import save_image\n",
    "from mnist_model_generator import Net\n",
    "from PIL import Image\n",
    "import math"
   ]
  },
  {
   "cell_type": "code",
   "execution_count": 2,
   "metadata": {},
   "outputs": [],
   "source": [
    "model = Net()\n",
    "model.load_state_dict(torch.load('../mnist_cnn.pt'))\n",
    "model.eval();"
   ]
  },
  {
   "cell_type": "code",
   "execution_count": 3,
   "metadata": {},
   "outputs": [],
   "source": [
    "three = Image.open(\"../3.png\")\n",
    "preprocess = transforms.Compose([\n",
    "   transforms.Resize(28),\n",
    "   transforms.ToTensor(),\n",
    "   transforms.Normalize((0.1307,), (0.3081,))\n",
    "])\n",
    "three_tensor = preprocess(three)[0].reshape(1,1,28,28)"
   ]
  },
  {
   "cell_type": "code",
   "execution_count": 4,
   "metadata": {},
   "outputs": [
    {
     "data": {
      "text/plain": [
       "tensor([[3.8002e-37, 1.9888e-26, 1.2790e-24, 1.0000e+00, 3.6991e-38, 1.3000e-19,\n",
       "         5.5068e-37, 2.9996e-23, 2.1760e-25, 7.5328e-23]],\n",
       "       grad_fn=<SoftmaxBackward0>)"
      ]
     },
     "execution_count": 4,
     "metadata": {},
     "output_type": "execute_result"
    }
   ],
   "source": [
    "model(three_tensor)"
   ]
  },
  {
   "cell_type": "markdown",
   "metadata": {},
   "source": [
    "# Start of JSMA-M"
   ]
  },
  {
   "cell_type": "code",
   "execution_count": 5,
   "metadata": {},
   "outputs": [],
   "source": [
    "def saliency_map(J, t, space, size, width):\n",
    "    S = [(0, 0)] * size\n",
    "    for p in space:\n",
    "        alpha = J[t, p // width, p % width].item()\n",
    "        beta = 0\n",
    "        for i in range(J.size(0)):\n",
    "            if not i == t:\n",
    "                beta += J[i, p // width, p % width].item()\n",
    "        S[p] = (alpha, beta)\n",
    "    return S"
   ]
  },
  {
   "cell_type": "code",
   "execution_count": 6,
   "metadata": {},
   "outputs": [],
   "source": [
    "def clip(orig, val, eps):\n",
    "    return min([1, orig + eps, max([0, orig - eps, val])])"
   ]
  },
  {
   "cell_type": "code",
   "execution_count": 7,
   "metadata": {},
   "outputs": [],
   "source": [
    "def jsmaM(original_image_tensor, actual_class, predictor, max_dist, perturbation, epsilon):\n",
    "    img_tensor = original_image_tensor.clone()\n",
    "    img_size = img_tensor.size(2) * img_tensor.size(3)\n",
    "    width = img_tensor.size(3)\n",
    "    search_space = list(range(img_size))\n",
    "    i = 0\n",
    "    max_iter = math.floor((img_size * max_dist) / (200))\n",
    "    chosen_pixel_1 = -1\n",
    "    chosen_pixel_2 = -1\n",
    "    modifier = 0\n",
    "    prediction = predictor(img_tensor)\n",
    "    eta = [0] * img_size\n",
    "\n",
    "    while prediction.argmax().item() == actual_class and i < max_iter and len(search_space) >= 2:\n",
    "        max = 0\n",
    "        J = torch.autograd.functional.jacobian(predictor, img_tensor)[0, :, 0, 0, :, :]\n",
    "        S = [saliency_map(J, target, search_space, img_size, width) for target in range(10)]\n",
    "        \n",
    "        for t in range(10):\n",
    "            for pixel1 in search_space:\n",
    "                for pixel2 in search_space:\n",
    "                    if pixel1 == pixel2:\n",
    "                        continue\n",
    "                    \n",
    "                    alpha = S[t][pixel1][0] + S[t][pixel2][0]\n",
    "                    beta = S[t][pixel1][1] + S[t][pixel2][1]\n",
    "\n",
    "                    if -alpha * beta > max:\n",
    "                        chosen_pixel_1 = pixel1\n",
    "                        chosen_pixel_2 = pixel2\n",
    "                        max = -alpha * beta\n",
    "                        modifier = (-1 if t == actual_class else 1) * math.copysign(1, alpha) * perturbation\n",
    "\n",
    "        if max == 0:\n",
    "            break\n",
    "        \n",
    "        print(f'Before: {img_tensor[0, 0, chosen_pixel_1 // width, chosen_pixel_1 % width]}, {img_tensor[0, 0, chosen_pixel_2 // width, chosen_pixel_2 % width]}')\n",
    "\n",
    "        img_tensor[0, 0, chosen_pixel_1 // width, chosen_pixel_1 % width] = clip(\n",
    "            original_image_tensor[0, 0, chosen_pixel_1 // width, chosen_pixel_1 % width].item(),\n",
    "            img_tensor[0, 0, chosen_pixel_1 // width, chosen_pixel_1 % width].item() + modifer,\n",
    "            epsilon\n",
    "        )\n",
    "        \n",
    "        img_tensor[0, 0, chosen_pixel_2 // width, chosen_pixel_2 % width] = clip(\n",
    "            original_image_tensor[0, 0, chosen_pixel_2 // width, chosen_pixel_2 % width].item(),\n",
    "            img_tensor[0, 0, chosen_pixel_2 // width, chosen_pixel_2 % width].item() + modifier,\n",
    "            epsilon\n",
    "        )\n",
    "\n",
    "        val = img_tensor[0, 0, chosen_pixel_1 // width, chosen_pixel_1 % width]\n",
    "        if val <= 0 or val >= 1 or eta[chosen_pixel_1] == -1 * modifier:\n",
    "            search_space.remove(chosen_pixel_1)\n",
    "    \n",
    "        val = img_tensor[0, 0, chosen_pixel_2 // width, chosen_pixel_1 % width]\n",
    "        if val <= 0 or val >= 1 or eta[chosen_pixel_1] == -1 * modifier:\n",
    "            search_space.remove(chosen_pixel_2)\n",
    "        \n",
    "        eta[chosen_pixel_1] = modifier\n",
    "        eta[chosen_pixel_2] = modifier\n",
    "        prediction = predictor(img_tensor)\n",
    "        i += 1\n",
    "        print(f'After: {img_tensor[0, 0, chosen_pixel_1 // width, chosen_pixel_1 % width]}, {img_tensor[0, 0, chosen_pixel_2 // width, chosen_pixel_2 % width]}')\n",
    "    return img_tensor"
   ]
  },
  {
   "cell_type": "code",
   "execution_count": 8,
   "metadata": {},
   "outputs": [
    {
     "name": "stdout",
     "output_type": "stream",
     "text": [
      "Before: 2.770573854446411, 2.770573854446411\n",
      "After: 1.0, 1.0\n",
      "Before: 1.701402187347412, 2.68147611618042\n",
      "After: 1.0, 1.0\n",
      "Before: 2.185075044631958, 2.732388973236084\n",
      "After: 1.0, 1.0\n",
      "Before: 1.981423258781433, 1.8668692111968994\n",
      "After: 1.0, 1.0\n",
      "Before: 0.04673170670866966, 0.6576869487762451\n",
      "After: 0.04673170670866966, 0.6576869487762451\n",
      "Before: 0.04673170670866966, 0.6576869487762451\n",
      "After: 0.04673170670866966, 0.6576869487762451\n",
      "Before: 0.04673170670866966, 0.6576869487762451\n",
      "After: 0.04673170670866966, 0.6576869487762451\n",
      "Before: 0.04673170670866966, 0.6576869487762451\n",
      "After: 0.04673170670866966, 0.6576869487762451\n",
      "Before: 0.04673170670866966, 0.6576869487762451\n",
      "After: 0.04673170670866966, 0.6576869487762451\n",
      "Before: 0.04673170670866966, 0.6576869487762451\n",
      "After: 0.04673170670866966, 0.6576869487762451\n",
      "Before: 0.04673170670866966, 0.6576869487762451\n",
      "After: 0.04673170670866966, 0.6576869487762451\n",
      "Before: 0.04673170670866966, 0.6576869487762451\n",
      "After: 0.04673170670866966, 0.6576869487762451\n",
      "Before: 0.04673170670866966, 0.6576869487762451\n",
      "After: 0.04673170670866966, 0.6576869487762451\n",
      "Before: 0.04673170670866966, 0.6576869487762451\n",
      "After: 0.04673170670866966, 0.6576869487762451\n",
      "Before: 0.04673170670866966, 0.6576869487762451\n",
      "After: 0.04673170670866966, 0.6576869487762451\n",
      "Before: 0.04673170670866966, 0.6576869487762451\n",
      "After: 0.04673170670866966, 0.6576869487762451\n",
      "Before: 0.04673170670866966, 0.6576869487762451\n",
      "After: 0.04673170670866966, 0.6576869487762451\n",
      "Before: 0.04673170670866966, 0.6576869487762451\n",
      "After: 0.04673170670866966, 0.6576869487762451\n",
      "Before: 0.04673170670866966, 0.6576869487762451\n",
      "After: 0.04673170670866966, 0.6576869487762451\n"
     ]
    },
    {
     "ename": "KeyboardInterrupt",
     "evalue": "",
     "output_type": "error",
     "traceback": [
      "\u001b[1;31m---------------------------------------------------------------------------\u001b[0m",
      "\u001b[1;31mKeyboardInterrupt\u001b[0m                         Traceback (most recent call last)",
      "\u001b[1;32mC:\\Users\\GEBRUI~1\\AppData\\Local\\Temp/ipykernel_8720/1611415167.py\u001b[0m in \u001b[0;36m<module>\u001b[1;34m\u001b[0m\n\u001b[1;32m----> 1\u001b[1;33m \u001b[0mattacked\u001b[0m \u001b[1;33m=\u001b[0m \u001b[0mjsmaM\u001b[0m\u001b[1;33m(\u001b[0m\u001b[0mthree_tensor\u001b[0m\u001b[1;33m,\u001b[0m \u001b[1;36m3\u001b[0m\u001b[1;33m,\u001b[0m \u001b[0mmodel\u001b[0m\u001b[1;33m,\u001b[0m \u001b[1;36m20\u001b[0m\u001b[1;33m,\u001b[0m \u001b[1;36m1\u001b[0m\u001b[1;33m,\u001b[0m \u001b[1;36m0.5\u001b[0m\u001b[1;33m)\u001b[0m\u001b[1;33m\u001b[0m\u001b[1;33m\u001b[0m\u001b[0m\n\u001b[0m",
      "\u001b[1;32mC:\\Users\\GEBRUI~1\\AppData\\Local\\Temp/ipykernel_8720/2712865599.py\u001b[0m in \u001b[0;36mjsmaM\u001b[1;34m(original_image_tensor, actual_class, predictor, max_dist, perturbation, epsilon)\u001b[0m\n\u001b[0;32m     23\u001b[0m                         \u001b[1;32mcontinue\u001b[0m\u001b[1;33m\u001b[0m\u001b[1;33m\u001b[0m\u001b[0m\n\u001b[0;32m     24\u001b[0m \u001b[1;33m\u001b[0m\u001b[0m\n\u001b[1;32m---> 25\u001b[1;33m                     \u001b[0malpha\u001b[0m \u001b[1;33m=\u001b[0m \u001b[0mS\u001b[0m\u001b[1;33m[\u001b[0m\u001b[0mt\u001b[0m\u001b[1;33m]\u001b[0m\u001b[1;33m[\u001b[0m\u001b[0mpixel1\u001b[0m\u001b[1;33m]\u001b[0m\u001b[1;33m[\u001b[0m\u001b[1;36m0\u001b[0m\u001b[1;33m]\u001b[0m \u001b[1;33m+\u001b[0m \u001b[0mS\u001b[0m\u001b[1;33m[\u001b[0m\u001b[0mt\u001b[0m\u001b[1;33m]\u001b[0m\u001b[1;33m[\u001b[0m\u001b[0mpixel2\u001b[0m\u001b[1;33m]\u001b[0m\u001b[1;33m[\u001b[0m\u001b[1;36m0\u001b[0m\u001b[1;33m]\u001b[0m\u001b[1;33m\u001b[0m\u001b[1;33m\u001b[0m\u001b[0m\n\u001b[0m\u001b[0;32m     26\u001b[0m                     \u001b[0mbeta\u001b[0m \u001b[1;33m=\u001b[0m \u001b[0mS\u001b[0m\u001b[1;33m[\u001b[0m\u001b[0mt\u001b[0m\u001b[1;33m]\u001b[0m\u001b[1;33m[\u001b[0m\u001b[0mpixel1\u001b[0m\u001b[1;33m]\u001b[0m\u001b[1;33m[\u001b[0m\u001b[1;36m1\u001b[0m\u001b[1;33m]\u001b[0m \u001b[1;33m+\u001b[0m \u001b[0mS\u001b[0m\u001b[1;33m[\u001b[0m\u001b[0mt\u001b[0m\u001b[1;33m]\u001b[0m\u001b[1;33m[\u001b[0m\u001b[0mpixel2\u001b[0m\u001b[1;33m]\u001b[0m\u001b[1;33m[\u001b[0m\u001b[1;36m1\u001b[0m\u001b[1;33m]\u001b[0m\u001b[1;33m\u001b[0m\u001b[1;33m\u001b[0m\u001b[0m\n\u001b[0;32m     27\u001b[0m \u001b[1;33m\u001b[0m\u001b[0m\n",
      "\u001b[1;31mKeyboardInterrupt\u001b[0m: "
     ]
    }
   ],
   "source": [
    "attacked = jsmaM(three_tensor, 3, model, 20, 1, 1)"
   ]
  },
  {
   "cell_type": "code",
   "execution_count": null,
   "metadata": {},
   "outputs": [],
   "source": [
    "attacked.size()"
   ]
  }
 ],
 "metadata": {
  "interpreter": {
   "hash": "d185d99660d43f918a309554ca434be2526a3d95ca2e0b28b0f0a334f8c90ee8"
  },
  "kernelspec": {
   "display_name": "Python 3.9.5 64-bit ('base': conda)",
   "name": "python3"
  },
  "language_info": {
   "codemirror_mode": {
    "name": "ipython",
    "version": 3
   },
   "file_extension": ".py",
   "mimetype": "text/x-python",
   "name": "python",
   "nbconvert_exporter": "python",
   "pygments_lexer": "ipython3",
   "version": "3.9.5"
  },
  "orig_nbformat": 4
 },
 "nbformat": 4,
 "nbformat_minor": 2
}
